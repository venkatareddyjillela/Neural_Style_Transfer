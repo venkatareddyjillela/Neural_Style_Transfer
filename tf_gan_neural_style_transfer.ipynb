{
  "nbformat": 4,
  "nbformat_minor": 2,
  "metadata": {
    "colab": {
      "name": "tf_gan_neural style transfer",
      "private_outputs": true,
      "provenance": [],
      "collapsed_sections": []
    },
    "kernelspec": {
      "display_name": "Python 3",
      "name": "python3"
    },
    "language_info": {
      "name": "python"
    },
    "accelerator": "GPU"
  },
  "cells": [
    {
      "cell_type": "code",
      "execution_count": null,
      "source": [
        "import os \r\n",
        "import tensorflow as tf\r\n",
        "os.environ[\"TFHUB_MODEL_LOAD_FORMAT\"]= \"COMPRESSED\""
      ],
      "outputs": [],
      "metadata": {
        "id": "Gv9LQWv-2Yay"
      }
    },
    {
      "cell_type": "code",
      "execution_count": null,
      "source": [
        "import IPython.display as display\r\n",
        "\r\n",
        "import matplotlib.pyplot as plt\r\n",
        "import matplotlib as mpl\r\n",
        "mpl.rcParams['figure.figsize'] = (12, 12)\r\n",
        "mpl.rcParams['axes.grid'] = False\r\n",
        "\r\n",
        "import numpy as np\r\n",
        "import PIL.Image\r\n",
        "import time\r\n",
        "import functools"
      ],
      "outputs": [],
      "metadata": {
        "id": "sc1OLbOWhPCO"
      }
    },
    {
      "cell_type": "code",
      "execution_count": null,
      "source": [
        "def tensor_to_image(tensor):\r\n",
        "  tensor = tensor*255\r\n",
        "  tensor = np.array(tensor, dtype=np.uint8)\r\n",
        "  if np.ndim(tensor)>3:\r\n",
        "    assert tensor.shape[0] == 1\r\n",
        "    tensor = tensor[0]\r\n",
        "  return PIL.Image.fromarray(tensor)"
      ],
      "outputs": [],
      "metadata": {
        "id": "GM6VEGrGLh62"
      }
    },
    {
      "cell_type": "code",
      "execution_count": null,
      "source": [],
      "outputs": [],
      "metadata": {
        "id": "r0mBXeb6VwNR"
      }
    },
    {
      "cell_type": "code",
      "execution_count": null,
      "source": [
        "##content_path ='/content/vr_photo.jpeg'\r\n",
        "#style_path ='/content/IMG_20190303_214445_539.jpg'\r\n",
        "content_path ='/content/IMG-20200315-WA0409.jpg'\r\n",
        "#content_path = tf.keras.utils.get_file('jr-NTR-latest-UHD-4.jpg','http://www.teluguclix.com/image/ntr/jr-NTR-latest-UHD-4.jpg')\r\n",
        "#style_path = tf.keras.utils.get_file('Mona_Lisa.jpg','https://upload.wikimedia.org/wikipedia/commons/6/6a/Mona_Lisa.jpg')\r\n",
        "##content_path = tf.keras.utils.get_file('YellowLabradorLooking_new.jpg', 'https://storage.googleapis.com/download.tensorflow.org/example_images/YellowLabradorLooking_new.jpg')\r\n",
        "style_path = tf.keras.utils.get_file('kandinsky5.jpg','https://storage.googleapis.com/download.tensorflow.org/example_images/Vassily_Kandinsky%2C_1913_-_Composition_7.jpg')"
      ],
      "outputs": [],
      "metadata": {
        "id": "wqc0OJHwyFAk"
      }
    },
    {
      "cell_type": "code",
      "execution_count": null,
      "source": [
        "def load_img(path_to_img):\r\n",
        "  max_dim = 512\r\n",
        "  img = tf.io.read_file(path_to_img)\r\n",
        "  img = tf.image.decode_image(img, channels=3)\r\n",
        "  img = tf.image.convert_image_dtype(img, tf.float32)\r\n",
        "\r\n",
        "  shape = tf.cast(tf.shape(img)[:-1], tf.float32)\r\n",
        "  long_dim = max(shape)\r\n",
        "  scale = max_dim / long_dim\r\n",
        "\r\n",
        "  new_shape = tf.cast(shape * scale, tf.int32)\r\n",
        "\r\n",
        "  img = tf.image.resize(img, new_shape)\r\n",
        "  img = img[tf.newaxis, :]\r\n",
        "  return img"
      ],
      "outputs": [],
      "metadata": {
        "id": "3TLljcwv5qZs"
      }
    },
    {
      "cell_type": "code",
      "execution_count": null,
      "source": [
        "def imshow(image, title=None):\r\n",
        "  if len(image.shape) > 3:\r\n",
        "    image = tf.squeeze(image, axis=0)\r\n",
        "\r\n",
        "  plt.imshow(image)\r\n",
        "  if title:\r\n",
        "    plt.title(title)"
      ],
      "outputs": [],
      "metadata": {
        "id": "cBX-eNT8PAK_"
      }
    },
    {
      "cell_type": "code",
      "execution_count": null,
      "source": [
        "content_image = load_img(content_path)\r\n",
        "style_image = load_img(style_path)\r\n",
        "\r\n",
        "plt.subplot(1, 2, 1)\r\n",
        "imshow(content_image, 'Content Image')\r\n",
        "\r\n",
        "plt.subplot(1, 2, 2)\r\n",
        "imshow(style_image, 'Style Image')"
      ],
      "outputs": [],
      "metadata": {
        "id": "_UWQmeEaiKkP"
      }
    },
    {
      "cell_type": "code",
      "execution_count": null,
      "source": [
        "content_image.shape"
      ],
      "outputs": [],
      "metadata": {
        "id": "ShYCluwtVoC3"
      }
    },
    {
      "cell_type": "code",
      "execution_count": null,
      "source": [
        "import tensorflow_hub as hub\r\n",
        "hub_model = hub.load('https://tfhub.dev/google/magenta/arbitrary-image-stylization-v1-256/2')\r\n",
        "stylized_image = hub_model(tf.constant(content_image),tf.constant(style_image))[0]\r\n",
        "\r\n",
        "tensor_to_image(stylized_image)\r\n"
      ],
      "outputs": [],
      "metadata": {
        "id": "F78squWbId7O"
      }
    },
    {
      "cell_type": "code",
      "execution_count": null,
      "source": [
        "x  = tf.keras.applications.vgg19.preprocess_input(content_image*255)\r\n",
        "x = tf.image.resize(x,(224,224))\r\n",
        "vgg = tf.keras.applications.VGG19(include_top=True, weights='imagenet')\r\n",
        "prediction_probabilities = vgg(x)\r\n",
        "prediction_probabilities.shape"
      ],
      "outputs": [],
      "metadata": {
        "id": "HH29LQKyId81"
      }
    },
    {
      "cell_type": "code",
      "execution_count": null,
      "source": [
        "predicted_top_5 = tf.keras.applications.vgg19.decode_predictions(prediction_probabilities.numpy())[0]\r\n",
        "[(class_name,prob) for (number,class_name,prob) in predicted_top_5]"
      ],
      "outputs": [],
      "metadata": {
        "id": "nyWwpDvCIeAq"
      }
    },
    {
      "cell_type": "code",
      "execution_count": null,
      "source": [
        "vgg = tf.keras.applications.VGG19(include_top=False, weights='imagenet')\r\n",
        "for layer in vgg.layers:\r\n",
        "  print(layer.name)"
      ],
      "outputs": [],
      "metadata": {
        "id": "LfNzFO7LIeQK"
      }
    },
    {
      "cell_type": "code",
      "execution_count": null,
      "source": [
        "content_layers = ['block5_conv2']\r\n",
        "style_layers = ['block1_conv1',\r\n",
        "               'block2_conv1',\r\n",
        "               'block3_conv1',\r\n",
        "               'block4_conv1',\r\n",
        "               ]\r\n",
        "num_content_layers = len(content_layers)\r\n",
        "num_style_layers = len(style_layers)"
      ],
      "outputs": [],
      "metadata": {
        "id": "fnhU0pt1WaMD"
      }
    },
    {
      "cell_type": "code",
      "execution_count": null,
      "source": [
        "def vgg_layers(layer_names):\r\n",
        "  vgg = tf.keras.applications.VGG19(include_top=False, weights='imagenet')\r\n",
        "  vgg.trainable = False\r\n",
        "  \r\n",
        "  outputs = [vgg.get_layer(name).output for name in layer_names]\r\n",
        "\r\n",
        "  model = tf.keras.Model([vgg.input], outputs)\r\n",
        "  return model"
      ],
      "outputs": [],
      "metadata": {
        "id": "nfec6MuMAbPx"
      }
    },
    {
      "cell_type": "code",
      "execution_count": null,
      "source": [
        "style_extractor = vgg_layers(style_layers)\r\n",
        "style_outputs = style_extractor(style_image*255)\r\n",
        "\r\n",
        "#Look at the statistics of each layer's output\r\n",
        "for name, output in zip(style_layers, style_outputs):\r\n",
        "  print(name)\r\n",
        "  print(\"  shape: \", output.numpy().shape)\r\n",
        "  print(\"  min: \", output.numpy().min())\r\n",
        "  print(\"  max: \", output.numpy().max())\r\n",
        "  print(\"  mean: \", output.numpy().mean())\r\n",
        "  print()"
      ],
      "outputs": [],
      "metadata": {
        "id": "LkyvPpBHSfVi"
      }
    },
    {
      "cell_type": "code",
      "execution_count": null,
      "source": [
        "def gram_matrix(input_tensor):\r\n",
        "  result = tf.linalg.einsum('bijc,bijd->bcd', input_tensor, input_tensor)\r\n",
        "  input_shape = tf.shape(input_tensor)\r\n",
        "  num_locations = tf.cast(input_shape[1]*input_shape[2], tf.float32)\r\n",
        "  return result/(num_locations)"
      ],
      "outputs": [],
      "metadata": {
        "id": "HAy1iGPdoEpZ"
      }
    },
    {
      "cell_type": "code",
      "execution_count": null,
      "source": [
        "class StyleContentModel(tf.keras.models.Model):\r\n",
        "  def __init__(self, style_layers, content_layers):\r\n",
        "    super(StyleContentModel, self).__init__()\r\n",
        "    self.vgg = vgg_layers(style_layers + content_layers)\r\n",
        "    self.style_layers = style_layers\r\n",
        "    self.content_layers = content_layers\r\n",
        "    self.num_style_layers = len(style_layers)\r\n",
        "    self.vgg.trainable = False\r\n",
        "\r\n",
        "  def call(self, inputs):\r\n",
        "    \"Expects float input in [0,1]\"\r\n",
        "    inputs = inputs*255.0\r\n",
        "    preprocessed_input = tf.keras.applications.vgg19.preprocess_input(inputs)\r\n",
        "    outputs = self.vgg(preprocessed_input)\r\n",
        "    style_outputs, content_outputs = (outputs[:self.num_style_layers],\r\n",
        "                                      outputs[self.num_style_layers:])\r\n",
        "\r\n",
        "    style_outputs = [gram_matrix(style_output)\r\n",
        "                     for style_output in style_outputs]\r\n",
        "\r\n",
        "    content_dict = {content_name: value\r\n",
        "                    for content_name, value\r\n",
        "                    in zip(self.content_layers, content_outputs)}\r\n",
        "\r\n",
        "    style_dict = {style_name: value\r\n",
        "                  for style_name, value\r\n",
        "                  in zip(self.style_layers, style_outputs)}\r\n",
        "\r\n",
        "    return {'content': content_dict, 'style': style_dict}"
      ],
      "outputs": [],
      "metadata": {
        "id": "Sr6QALY-I1ja"
      }
    },
    {
      "cell_type": "code",
      "execution_count": null,
      "source": [
        "content_image.shape"
      ],
      "outputs": [],
      "metadata": {
        "id": "pvadRztJWIWQ"
      }
    },
    {
      "cell_type": "code",
      "execution_count": null,
      "source": [
        "extractor = StyleContentModel(style_layers, content_layers)\r\n",
        "\r\n",
        "results = extractor(tf.constant(content_image))\r\n"
      ],
      "outputs": [],
      "metadata": {
        "id": "0BJbFNF4TacG"
      }
    },
    {
      "cell_type": "code",
      "execution_count": null,
      "source": [
        "print('Styles:')\r\n",
        "for name, output in sorted(results['style'].items()):\r\n",
        "  print(\"  \", name)\r\n",
        "  print(\"    shape: \", output.numpy().shape)\r\n",
        "  print(\"    min: \", output.numpy().min())\r\n",
        "  print(\"    max: \", output.numpy().max())\r\n",
        "  print(\"    mean: \", output.numpy().mean())\r\n",
        "  print()\r\n",
        "\r\n",
        "print(\"Contents:\")\r\n",
        "for name, output in sorted(results['content'].items()):\r\n",
        "  print(\"  \", name)\r\n",
        "  print(\"    shape: \", output.numpy().shape)\r\n",
        "  print(\"    min: \", output.numpy().min())\r\n",
        "  print(\"    max: \", output.numpy().max())\r\n",
        "  print(\"    mean: \", output.numpy().mean())\r\n"
      ],
      "outputs": [],
      "metadata": {
        "id": "tjco3gc4Taji"
      }
    },
    {
      "cell_type": "code",
      "execution_count": null,
      "source": [
        "style_targets = extractor(style_image)['style']\r\n",
        "content_targets = extractor(content_image)['content']"
      ],
      "outputs": [],
      "metadata": {
        "id": "LRmtOVnUibJq"
      }
    },
    {
      "cell_type": "code",
      "execution_count": null,
      "source": [
        "image = tf.Variable(content_image)"
      ],
      "outputs": [],
      "metadata": {
        "id": "iulKbdhPibQ4"
      }
    },
    {
      "cell_type": "code",
      "execution_count": null,
      "source": [
        "def clip_0_1(image):\r\n",
        "  return tf.clip_by_value(image,clip_value_min=0.0,clip_value_max=1.0)"
      ],
      "outputs": [],
      "metadata": {
        "id": "WZcp6IQ7ibYE"
      }
    },
    {
      "cell_type": "code",
      "execution_count": null,
      "source": [
        "opt = tf.optimizers.Adam(learning_rate=0.02,beta_1=0.99,epsilon=1e-1)"
      ],
      "outputs": [],
      "metadata": {
        "id": "aX0XiE7vibdy"
      }
    },
    {
      "cell_type": "code",
      "execution_count": null,
      "source": [
        "content_weight = 1e-2\r\n",
        "style_weight = 1e4\r\n",
        "\r\n"
      ],
      "outputs": [],
      "metadata": {
        "id": "vbLJsB99ibiZ"
      }
    },
    {
      "cell_type": "code",
      "execution_count": null,
      "source": [
        "def style_content_loss(outputs):\r\n",
        "    style_outputs = outputs['style']\r\n",
        "    content_outputs = outputs['content']\r\n",
        "    style_loss = tf.add_n([tf.reduce_mean((style_outputs[name]-style_targets[name])**2) \r\n",
        "                           for name in style_outputs.keys()])\r\n",
        "    style_loss *= style_weight / num_style_layers\r\n",
        "\r\n",
        "    content_loss = tf.add_n([tf.reduce_mean((content_outputs[name]-content_targets[name])**2) \r\n",
        "                             for name in content_outputs.keys()])\r\n",
        "    content_loss *= content_weight / num_content_layers\r\n",
        "    loss = style_loss + content_loss\r\n",
        "    return loss"
      ],
      "outputs": [],
      "metadata": {
        "id": "0ggx2Na8oROH"
      }
    },
    {
      "cell_type": "code",
      "execution_count": null,
      "source": [
        "@tf.function()\r\n",
        "def train_step(image):\r\n",
        "  with tf.GradientTape() as tape:\r\n",
        "    outputs = extractor(image)\r\n",
        "    loss = style_content_loss(outputs)\r\n",
        "\r\n",
        "  grad = tape.gradient(loss, image)\r\n",
        "  opt.apply_gradients([(grad, image)])\r\n",
        "  image.assign(clip_0_1(image))"
      ],
      "outputs": [],
      "metadata": {
        "id": "Y3CRxBGXs5_x"
      }
    },
    {
      "cell_type": "code",
      "execution_count": null,
      "source": [],
      "outputs": [],
      "metadata": {
        "id": "Edye9qHPshnd"
      }
    },
    {
      "cell_type": "code",
      "execution_count": null,
      "source": [
        "train_step(image)\r\n",
        "train_step(image)\r\n",
        "train_step(image)\r\n",
        "tensor_to_image(image)\r\n"
      ],
      "outputs": [],
      "metadata": {
        "id": "Y542mxi-O2a2"
      }
    },
    {
      "cell_type": "code",
      "execution_count": null,
      "source": [
        "train_step(image)\r\n",
        "train_step(image)\r\n",
        "train_step(image)\r\n",
        "\r\n",
        "tensor_to_image(image)"
      ],
      "outputs": [],
      "metadata": {
        "id": "yNEwW7OEuPen"
      }
    },
    {
      "cell_type": "code",
      "execution_count": null,
      "source": [
        "import time\r\n",
        "start = time.time()\r\n",
        "\r\n",
        "epochs = 10\r\n",
        "step = 0\r\n",
        "steps_per_epoch = 100\r\n",
        "for n in range(epochs):\r\n",
        "  for m in range(steps_per_epoch):\r\n",
        "    step = step+1\r\n",
        "    train_step(image)\r\n",
        "    print(\".\",end='')\r\n",
        "  display.clear_output(wait=True)\r\n",
        "  display.display(tensor_to_image(image))\r\n",
        "  print(\"train step : {}\".format(step))\r\n",
        "\r\n",
        "end = time.time()\r\n",
        "print(\"total time taken:{:.1f}\".format(end-start))\r\n"
      ],
      "outputs": [],
      "metadata": {
        "id": "aLLwi2TUsh9E"
      }
    },
    {
      "cell_type": "code",
      "execution_count": null,
      "source": [
        "def highpass_x_y(image):\r\n",
        "  x_var = image[:,:,1:,:] - image[:,:,:-1,:]\r\n",
        "  y_var = image[:,1:,:,:] - image[:,:-1,:,:]\r\n",
        "  return x_var,y_var"
      ],
      "outputs": [],
      "metadata": {
        "id": "2afryfWGsiAx"
      }
    },
    {
      "cell_type": "code",
      "execution_count": null,
      "source": [
        "x_delta ,y_delta = highpass_x_y(content_image)\r\n",
        "\r\n",
        "plt.figure(figsize=(15,15))\r\n",
        "plt.subplot(2,2,1)\r\n",
        "imshow(clip_0_1(2*x_delta+0.5),\"horizantal_deltas:original\")\r\n",
        "\r\n",
        "plt.subplot(2,2,2)\r\n",
        "imshow(clip_0_1(2*y_delta+0.5),\"vertical_deltas:original\")\r\n",
        "\r\n",
        "x_deltas ,y_deltas = highpass_x_y(image)\r\n",
        "plt.subplot(2,2,3)\r\n",
        "imshow(clip_0_1(2*x_delta+0.5),\"horizantal_deltas:styled\")\r\n",
        "plt.subplot(2,2,4)\r\n",
        "imshow(clip_0_1(2*y_delta+0.5),\"vertical_deltas:styled\")"
      ],
      "outputs": [],
      "metadata": {
        "id": "nU3SsRjaypUH"
      }
    },
    {
      "cell_type": "code",
      "execution_count": null,
      "source": [
        "tf.image.total_variation(image).numpy()"
      ],
      "outputs": [],
      "metadata": {
        "id": "U9_oQm1Aypb4"
      }
    },
    {
      "cell_type": "code",
      "execution_count": null,
      "source": [
        "total_variation_weight = 30"
      ],
      "outputs": [],
      "metadata": {
        "id": "-bTQ7NVSypid"
      }
    },
    {
      "cell_type": "code",
      "execution_count": null,
      "source": [
        "@tf.function\r\n",
        "def train_step(image):\r\n",
        "  with tf.GradientTape() as tape:\r\n",
        "    outputs = extractor(image)\r\n",
        "    loss = style_content_loss(outputs)\r\n",
        "    loss  = loss + (total_variation_weight*tf.image.total_variation(image))\r\n",
        "  grad = tape.gradient(loss,image)\r\n",
        "  opt.apply_gradients([(grad,image)])\r\n",
        "  image.assign(clip_0_1(image))"
      ],
      "outputs": [],
      "metadata": {
        "id": "PmTSz9oCypoP"
      }
    },
    {
      "cell_type": "code",
      "execution_count": null,
      "source": [
        "image = tf.Variable(content_image)"
      ],
      "outputs": [],
      "metadata": {
        "id": "fzbdnEbM5Ych"
      }
    },
    {
      "cell_type": "code",
      "execution_count": null,
      "source": [
        "import time\r\n",
        "start = time.time()\r\n",
        "\r\n",
        "epochs = 10\r\n",
        "steps_per_epoch = 100\r\n",
        "\r\n",
        "step = 0\r\n",
        "for n in range(epochs):\r\n",
        "  for m in range(steps_per_epoch):\r\n",
        "    step += 1\r\n",
        "    train_step(image)\r\n",
        "    print(\".\", end='')\r\n",
        "  display.clear_output(wait=True)\r\n",
        "  display.display(tensor_to_image(image))\r\n",
        "  print(\"Train step: {}\".format(step))\r\n",
        "  \r\n",
        "end = time.time()\r\n",
        "print(\"Total time: {:.1f}\".format(end-start))"
      ],
      "outputs": [],
      "metadata": {
        "id": "rQW1tXYoLbUS"
      }
    },
    {
      "cell_type": "code",
      "execution_count": null,
      "source": [
        "\r\n",
        "\r\n",
        "file_name = \"nst_img.png\"\r\n",
        "tensor_to_image(image).save(file_name)\r\n",
        "try:\r\n",
        "  from google.colab import files\r\n",
        "except ImportError:\r\n",
        "  pass\r\n",
        "else:\r\n",
        "  files.download(file_name)\r\n"
      ],
      "outputs": [],
      "metadata": {
        "id": "tfvH8jYD5Ypy"
      }
    },
    {
      "cell_type": "code",
      "execution_count": null,
      "source": [],
      "outputs": [],
      "metadata": {
        "id": "qMXEuPVg5YuF"
      }
    },
    {
      "cell_type": "code",
      "execution_count": null,
      "source": [],
      "outputs": [],
      "metadata": {
        "id": "4JveYwF95Yyz"
      }
    },
    {
      "cell_type": "code",
      "execution_count": null,
      "source": [],
      "outputs": [],
      "metadata": {
        "id": "WIS4imiO5Y3f"
      }
    }
  ]
}